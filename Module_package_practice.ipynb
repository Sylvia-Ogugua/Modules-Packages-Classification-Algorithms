{
 "cells": [
  {
   "cell_type": "code",
   "execution_count": 1,
   "id": "e9646fb0",
   "metadata": {},
   "outputs": [],
   "source": [
    "from mainpackage import encryption"
   ]
  },
  {
   "cell_type": "code",
   "execution_count": 2,
   "id": "da594857",
   "metadata": {},
   "outputs": [],
   "source": [
    "my_sentence = \"hello {Chiamaka}\""
   ]
  },
  {
   "cell_type": "code",
   "execution_count": 3,
   "id": "cc2593c8",
   "metadata": {},
   "outputs": [],
   "source": [
    "reversed_sentence = encryption.reverse_encryption(my_sentence)"
   ]
  },
  {
   "cell_type": "code",
   "execution_count": 4,
   "id": "832f2ad0",
   "metadata": {},
   "outputs": [
    {
     "data": {
      "text/plain": [
       "'}akamaihC{ olleh'"
      ]
     },
     "execution_count": 4,
     "metadata": {},
     "output_type": "execute_result"
    }
   ],
   "source": [
    "reversed_sentence"
   ]
  },
  {
   "cell_type": "code",
   "execution_count": 5,
   "id": "8fb1f989",
   "metadata": {},
   "outputs": [],
   "source": [
    "plain_sentence = encryption.reverse_decryption(reversed_sentence)"
   ]
  },
  {
   "cell_type": "code",
   "execution_count": 6,
   "id": "bfa1adc9",
   "metadata": {},
   "outputs": [
    {
     "data": {
      "text/plain": [
       "'hello {Chiamaka}'"
      ]
     },
     "execution_count": 6,
     "metadata": {},
     "output_type": "execute_result"
    }
   ],
   "source": [
    "plain_sentence"
   ]
  },
  {
   "cell_type": "code",
   "execution_count": 7,
   "id": "585e2852",
   "metadata": {},
   "outputs": [],
   "source": [
    "caeser_encrypt = encryption.caesar_encryption(my_sentence, 9)"
   ]
  },
  {
   "cell_type": "code",
   "execution_count": 8,
   "id": "06fcfcae",
   "metadata": {},
   "outputs": [
    {
     "data": {
      "text/plain": [
       "'qnuuxIELqrjvjtjG'"
      ]
     },
     "execution_count": 8,
     "metadata": {},
     "output_type": "execute_result"
    }
   ],
   "source": [
    "caeser_encrypt"
   ]
  },
  {
   "cell_type": "code",
   "execution_count": 9,
   "id": "e4c869fd",
   "metadata": {},
   "outputs": [],
   "source": [
    "caeser_decrypt = encryption.caesar_decryption(caeser_encrypt, 9)"
   ]
  },
  {
   "cell_type": "code",
   "execution_count": 10,
   "id": "65a9eb1e",
   "metadata": {},
   "outputs": [
    {
     "data": {
      "text/plain": [
       "'hello {Chiamaka}'"
      ]
     },
     "execution_count": 10,
     "metadata": {},
     "output_type": "execute_result"
    }
   ],
   "source": [
    "caeser_decrypt"
   ]
  }
 ],
 "metadata": {
  "kernelspec": {
   "display_name": "Python 3 (ipykernel)",
   "language": "python",
   "name": "python3"
  },
  "language_info": {
   "codemirror_mode": {
    "name": "ipython",
    "version": 3
   },
   "file_extension": ".py",
   "mimetype": "text/x-python",
   "name": "python",
   "nbconvert_exporter": "python",
   "pygments_lexer": "ipython3",
   "version": "3.11.4"
  }
 },
 "nbformat": 4,
 "nbformat_minor": 5
}
